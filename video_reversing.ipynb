{
  "nbformat": 4,
  "nbformat_minor": 0,
  "metadata": {
    "colab": {
      "name": "Untitled43.ipynb",
      "provenance": [],
      "authorship_tag": "ABX9TyMWohV5LMluoC9pXoVcUYMq",
      "include_colab_link": true
    },
    "kernelspec": {
      "name": "python3",
      "display_name": "Python 3"
    },
    "language_info": {
      "name": "python"
    }
  },
  "cells": [
    {
      "cell_type": "markdown",
      "metadata": {
        "id": "view-in-github",
        "colab_type": "text"
      },
      "source": [
        "<a href=\"https://colab.research.google.com/github/shikharRS/OpenCV/blob/main/video_reversing.ipynb\" target=\"_parent\"><img src=\"https://colab.research.google.com/assets/colab-badge.svg\" alt=\"Open In Colab\"/></a>"
      ]
    },
    {
      "cell_type": "code",
      "metadata": {
        "id": "EEGJw1sqJ-in"
      },
      "source": [
        "import cv2"
      ],
      "execution_count": 1,
      "outputs": []
    },
    {
      "cell_type": "code",
      "metadata": {
        "id": "APT7M1A6K8OR"
      },
      "source": [
        "\n",
        "def FrameCapture(path):\n",
        "  vidObj = cv2.VideoCapture(path)\n",
        "  count = 0\n",
        "  list_of_frame = []\n",
        "  success = 1\n",
        "  while success:\n",
        "    success, image = vidObj.read()\n",
        "    if image is not None:\n",
        "      cv2.imwrite(\"frame%d.jpg\" % count, image)\n",
        "      list_of_frame.append(\"frame%d.jpg\" % count)\n",
        "      count += 1\n",
        "  return list_of_frame"
      ],
      "execution_count": 11,
      "outputs": []
    },
    {
      "cell_type": "code",
      "metadata": {
        "id": "YPsmVljfLrlH"
      },
      "source": [
        "list_of_frames = FrameCapture(\"production ID_3694841.mp4\")"
      ],
      "execution_count": 12,
      "outputs": []
    },
    {
      "cell_type": "code",
      "metadata": {
        "id": "iq6ISx3ZUNir"
      },
      "source": [
        "list_of_frames.reverse()"
      ],
      "execution_count": 14,
      "outputs": []
    },
    {
      "cell_type": "code",
      "metadata": {
        "id": "qQbG8E5uVcSk"
      },
      "source": [
        "list_of_frames"
      ],
      "execution_count": null,
      "outputs": []
    },
    {
      "cell_type": "code",
      "metadata": {
        "id": "zAwMCf9KWRG9"
      },
      "source": [
        "fourcc = cv2.VideoWriter_fourcc(*'mp4v') \n",
        "img = cv2.imread(list_of_frames[0])\n",
        "height,width,layers=img.shape\n",
        "video = cv2.VideoWriter('video.avi', fourcc, 32, (width, height))\n",
        "for j in list_of_frames:\n",
        "  img = cv2.imread(j)\n",
        "  video.write(img)\n",
        "\n",
        "cv2.destroyAllWindows()\n",
        "video.release()"
      ],
      "execution_count": 23,
      "outputs": []
    },
    {
      "cell_type": "code",
      "metadata": {
        "id": "9Tfzn_2-VnHR"
      },
      "source": [
        ""
      ],
      "execution_count": null,
      "outputs": []
    }
  ]
}